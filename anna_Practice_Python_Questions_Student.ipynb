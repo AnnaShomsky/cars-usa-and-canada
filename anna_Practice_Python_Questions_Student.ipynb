{
 "cells": [
  {
   "cell_type": "markdown",
   "metadata": {
    "id": "6TocyMOg5nY_"
   },
   "source": [
    "<H2> Python Interview Test Practice </H2>"
   ]
  },
  {
   "cell_type": "markdown",
   "metadata": {
    "id": "Ljz0Fl485nZF"
   },
   "source": [
    "This preparation exercise will have you use the **USA_cars_datasets.csv** file to reinforce your understanding of the following functions:\n",
    "\n",
    "<ol> Boolean Filtering </ol>\n",
    "<ol> GROUP BY / Average Functions in Python </ol>\n",
    "<ol> Matplotlib </ol>\n",
    "\n",
    "Once you complete the exercise, you can use the **Answer key** file to check your answers. If you get stuck, please reach out to your mentor or reach out and ask the question on #Slack!"
   ]
  },
  {
   "cell_type": "code",
   "execution_count": 29,
   "metadata": {
    "id": "9LnB5dul5nZG"
   },
   "outputs": [
    {
     "name": "stdout",
     "output_type": "stream",
     "text": [
      "        price      brand    model  year   title_status  mileage   color  \\\n",
      "0      6300.0     toyota  cruiser  2008  clean vehicle   274117   black   \n",
      "1      2899.0       ford       se  2011  clean vehicle   190552  silver   \n",
      "2      5350.0      dodge      mpv  2018  clean vehicle    39590  silver   \n",
      "3     25000.0       ford     door  2014  clean vehicle    64146    blue   \n",
      "4     27700.0  chevrolet     1500  2018  clean vehicle     6654     red   \n",
      "...       ...        ...      ...   ...            ...      ...     ...   \n",
      "2494   7800.0     nissan    versa  2019  clean vehicle    23609     red   \n",
      "2495   9200.0     nissan    versa  2018  clean vehicle    34553  silver   \n",
      "2496   9200.0     nissan    versa  2018  clean vehicle    31594  silver   \n",
      "2497   9200.0     nissan    versa  2018  clean vehicle    32557   black   \n",
      "2498   9200.0     nissan    versa  2018  clean vehicle    31371  silver   \n",
      "\n",
      "           state country  \n",
      "0     new jersey     usa  \n",
      "1      tennessee     usa  \n",
      "2        georgia     usa  \n",
      "3       virginia     usa  \n",
      "4        florida     usa  \n",
      "...          ...     ...  \n",
      "2494  california     usa  \n",
      "2495     florida     usa  \n",
      "2496     florida     usa  \n",
      "2497     florida     usa  \n",
      "2498     florida     usa  \n",
      "\n",
      "[2499 rows x 9 columns]\n"
     ]
    }
   ],
   "source": [
    "import matplotlib.pyplot as plt\n",
    "import numpy as np\n",
    "import seaborn as sns\n",
    "import pandas as pd\n",
    "\n",
    "df_cars= pd.read_csv(\"USA_cars_datasets.csv\")\n",
    "print(df_cars)"
   ]
  },
  {
   "cell_type": "markdown",
   "metadata": {
    "id": "36Xm8IIZ5nZG"
   },
   "source": [
    "<b>Q1. In the US, what is the average price per car in each state? Order this in descending order.<b>"
   ]
  },
  {
   "cell_type": "code",
   "execution_count": 143,
   "metadata": {
    "id": "m9zyfltw5nZG",
    "scrolled": false
   },
   "outputs": [
    {
     "name": "stdout",
     "output_type": "stream",
     "text": [
      "the average price is 18735.12\n",
      "state\n",
      "kentucky          44969.444444\n",
      "new mexico        27375.000000\n",
      "washington        26771.428571\n",
      "illinois          26715.707965\n",
      "michigan          23899.822485\n",
      "alabama           23872.058824\n",
      "nevada            23653.529412\n",
      "pennsylvania      22810.210702\n",
      "indiana           21391.428571\n",
      "nebraska          21350.000000\n",
      "mississippi       21148.333333\n",
      "wisconsin         21103.191489\n",
      "virginia          20041.000000\n",
      "oklahoma          19839.084507\n",
      "minnesota         18207.352941\n",
      "new york          17850.706897\n",
      "california        17836.710526\n",
      "rhode island      17808.000000\n",
      "massachusetts     17650.555556\n",
      "ohio              17460.967742\n",
      "south carolina    17270.703125\n",
      "new hampshire     16757.500000\n",
      "north carolina    16485.273973\n",
      "tennessee         16259.576923\n",
      "new jersey        16209.712644\n",
      "missouri          16192.391304\n",
      "louisiana         16181.181818\n",
      "georgia           16050.313725\n",
      "kansas            15500.000000\n",
      "west virginia     15447.619048\n",
      "florida           15075.630081\n",
      "connecticut       14713.600000\n",
      "arizona           14709.090909\n",
      "texas             13607.299065\n",
      "oregon            13109.259259\n",
      "colorado          12676.190476\n",
      "idaho             11500.000000\n",
      "vermont            7498.000000\n",
      "utah               4875.000000\n",
      "arkansas           3771.666667\n",
      "montana            2825.000000\n",
      "maryland            662.500000\n",
      "wyoming               0.000000\n",
      "Name: price, dtype: float64\n"
     ]
    }
   ],
   "source": [
    "df_cars_usa= df_cars[df_cars[\"country\"]==\" usa\"]\n",
    "\n",
    "avergae_price= df_cars_usa[\"price\"].mean()\n",
    "prices= round(avergae_price,2)\n",
    "print(\"the average price is \" + str(prices))\n",
    "\n",
    "\n",
    "\n",
    "USA= df_cars.loc[(df_cars['country']==' usa')].groupby(by=\"state\").price.mean().sort_values(ascending= False)\n",
    "print(USA)\n",
    "                         "
   ]
  },
  {
   "cell_type": "code",
   "execution_count": null,
   "metadata": {},
   "outputs": [],
   "source": []
  },
  {
   "cell_type": "markdown",
   "metadata": {
    "id": "e5zGHQvM5nZH"
   },
   "source": [
    "<b> Q2. What is the average price per car brand within the US? Plot this out in a Bar Plot in descending order.</b>"
   ]
  },
  {
   "cell_type": "code",
   "execution_count": 150,
   "metadata": {
    "id": "rtP_AaVl5nZH"
   },
   "outputs": [
    {
     "data": {
      "text/plain": [
       "<AxesSubplot:xlabel='brand'>"
      ]
     },
     "execution_count": 150,
     "metadata": {},
     "output_type": "execute_result"
    },
    {
     "data": {
      "image/png": "[encoded data removed]",
      "text/plain": [
       "<Figure size 432x288 with 1 Axes>"
      ]
     },
     "metadata": {
      "needs_background": "light"
     },
     "output_type": "display_data"
    }
   ],
   "source": [
    "'''df_cars_sorted= df_cars_usa.sort_values(by ='price', ascending= False)\n",
    "\n",
    "x= df_cars_sorted[\"brand\"]\n",
    "y= df_cars_sorted[\"price\"]\n",
    "\n",
    "plt.bar(x,y)\n",
    "plt.xticks(rotation=90)\n",
    "plt.show()\n",
    "'''\n",
    "\n",
    "df_cars.loc[df_cars[\"country\"]==\" usa\"].groupby(by=\"brand\").price.mean().sort_values(ascending= False).plot(kind=\"bar\")\n",
    "\n",
    "\n"
   ]
  },
  {
   "cell_type": "markdown",
   "metadata": {
    "id": "mhmkUjjO5nZH"
   },
   "source": [
    "<b> Q3. In Canada, what is the most popular brand and color of the cars that are listed for sale? </b>"
   ]
  },
  {
   "cell_type": "code",
   "execution_count": 169,
   "metadata": {
    "id": "ONAOJLJH5nZH"
   },
   "outputs": [
    {
     "name": "stdout",
     "output_type": "stream",
     "text": [
      "           country\n",
      "brand             \n",
      "chevrolet        1\n",
      "dodge            6\n",
      "the most popular brand is dodge\n",
      "        country\n",
      "color          \n",
      "orange        1\n",
      "red           1\n",
      "white         5\n",
      "\n",
      " the most popular color is white\n"
     ]
    }
   ],
   "source": [
    "\n",
    "canada_brand= df_cars[[\"country\", \"brand\"]].loc[(df_cars[\"country\"]==\" canada\")].groupby(by = \"brand\").count()\n",
    "print(canada_brand)\n",
    "print(\"the most popular brand is dodge\")\n",
    "\n",
    "canada_color= df_cars[[\"country\", \"color\"]].loc[(df_cars[\"country\"]==\" canada\")].groupby(by=\"color\").count()\n",
    "print(canada_color)\n",
    "\n",
    "print(\"\\n the most popular color is white\")\n"
   ]
  },
  {
   "cell_type": "markdown",
   "metadata": {
    "id": "CoZNJ3bf5nZI"
   },
   "source": [
    "<b> Q4. Is there a substantial price difference between the average price for a clean car in the US vs. a clean car in Canada? If yes, what is the difference? </b> "
   ]
  },
  {
   "cell_type": "code",
   "execution_count": 175,
   "metadata": {
    "id": "MPU7XGPf5nZI"
   },
   "outputs": [
    {
     "name": "stdout",
     "output_type": "stream",
     "text": [
      "the average price Usa is 19883\n",
      " the vaerage price canada is 30357\n",
      "the difference is $10474\n"
     ]
    }
   ],
   "source": [
    "df_clean_car_canada= df_cars_canada[df_cars_canada[\"title_status\"]==\"clean vehicle\"]\n",
    "df_clean_car_usa= df_cars_usa[df_cars_usa[\"title_status\"]==\"clean vehicle\"]\n",
    "\n",
    "average_price_clean_usa= int(df_clean_car_usa[\"price\"].mean())\n",
    "average_price_clean_canada =int(df_clean_car_canada[\"price\"].mean())\n",
    "print(\"the average price Usa is \" + str(average_price_clean_usa))\n",
    "print(\" the vaerage price canada is \" + str(average_price_clean_canada))\n",
    "\n",
    "\n",
    "difference = int(verage_price_clean_canada -average_price_clean_usa)\n",
    "print(\"the difference is $\" + str(difference))"
   ]
  },
  {
   "cell_type": "markdown",
   "metadata": {
    "id": "XjPA-MUH5nZI"
   },
   "source": [
    "<b> Q5. In the US / Canada - which car, brand and model is sold at the highest average price? </b>"
   ]
  },
  {
   "cell_type": "code",
   "execution_count": 192,
   "metadata": {
    "id": "27UM8jQP5nZI"
   },
   "outputs": [
    {
     "name": "stdout",
     "output_type": "stream",
     "text": [
      "model  brand    \n",
      "1500   chevrolet    46800.0\n",
      "Name: price, dtype: float64\n",
      "country  brand          model   \n",
      " usa     mercedes-benz  sl-class    84900.0\n",
      "Name: price, dtype: float64\n",
      "thee most expensive in us is mercedes-benz  sl-class  at  $84900\n",
      "country  brand      model\n",
      " canada  chevrolet  1500     33000.0\n",
      "Name: price, dtype: float64\n",
      "the most expensive in candada is chevrolet  1500   at  3$3000\n"
     ]
    }
   ],
   "source": [
    "all_cars_brand_model= df_cars.groupby([\"model\", \"brand\"])\n",
    "highest_price= all_cars_brand_model[\"price\"].max()\n",
    "\n",
    "print(highest_price. head(1))\n",
    "\n",
    "highest_usa= df_cars[[\"country\", \"brand\", \"model\", \"price\"]].loc[(df_cars[\"country\"] == \" usa\")].groupby([ \"country\", \"brand\", \"model\"] ).price.mean().sort_values(ascending=False)\n",
    "print(highest_usa.head(1))\n",
    "print(\"thee most expensive in us is mercedes-benz  sl-class  at  $84900\")\n",
    "\n",
    "highest_canada = df_cars[[\"country\", \"brand\", \"model\", \"price\"]].loc[(df_cars[\"country\"]==\" canada\")].groupby([\"country\", \"brand\", \"model\"]).price.mean().sort_values(ascending= False)\n",
    "print(highest_canada.head(1))\n",
    "print(\"the most expensive in candada is chevrolet  1500   at  3$3000\")\n"
   ]
  },
  {
   "cell_type": "code",
   "execution_count": null,
   "metadata": {},
   "outputs": [],
   "source": []
  }
 ],
 "metadata": {
  "colab": {
   "name": "Practice_Python_Questions_Student.ipynb",
   "provenance": []
  },
  "kernelspec": {
   "display_name": "Python 3 (ipykernel)",
   "language": "python",
   "name": "python3"
  },
  "language_info": {
   "codemirror_mode": {
    "name": "ipython",
    "version": 3
   },
   "file_extension": ".py",
   "mimetype": "text/x-python",
   "name": "python",
   "nbconvert_exporter": "python",
   "pygments_lexer": "ipython3",
   "version": "3.9.7"
  }
 },
 "nbformat": 4,
 "nbformat_minor": 1
}
